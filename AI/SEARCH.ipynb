{
  "nbformat": 4,
  "nbformat_minor": 0,
  "metadata": {
    "colab": {
      "provenance": []
    },
    "kernelspec": {
      "name": "python3",
      "display_name": "Python 3"
    },
    "language_info": {
      "name": "python"
    }
  },
  "cells": [
    {
      "cell_type": "markdown",
      "source": [
        "A* SEARCH"
      ],
      "metadata": {
        "id": "JserTuMfOMSO"
      }
    },
    {
      "cell_type": "code",
      "source": [
        "def aStar(start_node, stop_node):\n",
        "    open_set = set(start_node)\n",
        "    closed_set = set()\n",
        "    g = {}               #store distance from starting node\n",
        "    parents = {}         # parents contains an adjacency map of all nodes\n",
        "    #distance of starting node from itself is zero\n",
        "    g[start_node] = 0\n",
        "    #start_node is root node i.e it has no parent nodes\n",
        "    #so start_node is set to its own parent node\n",
        "    parents[start_node] = start_node\n",
        "    while len(open_set) > 0:\n",
        "        n = None\n",
        "        #node with lowest f() is found\n",
        "        for v in open_set:\n",
        "            if n == None or g[v] + heuristic(v) < g[n] + heuristic(n):\n",
        "                n = v\n",
        "        if n == stop_node or Graph_nodes[n] == None:\n",
        "            pass\n",
        "        else:\n",
        "            for (m, weight) in get_neighbors(n):\n",
        "                #nodes 'm' not in first and last set are added to first\n",
        "                #n is set its parent\n",
        "                if m not in open_set and m not in closed_set:\n",
        "                    open_set.add(m)\n",
        "                    parents[m] = n\n",
        "                    g[m] = g[n] + weight\n",
        "                #for each node m,compare its distance from start i.e g(m) to the\n",
        "                #from start through n node\n",
        "                else:\n",
        "                    if g[m] > g[n] + weight:\n",
        "                        #update g(m)\n",
        "                        g[m] = g[n] + weight\n",
        "                        #change parent of m to n\n",
        "                        parents[m] = n\n",
        "                        #if m in closed set,remove and add to open\n",
        "                        if m in closed_set:\n",
        "                            closed_set.remove(m)\n",
        "                            open_set.add(m)\n",
        "        if n == None:\n",
        "            print('Path does not exist!')\n",
        "            return None\n",
        "        \n",
        "        # if the current node is the stop_node\n",
        "        # then we begin reconstructin the path from it to the start_node\n",
        "        if n == stop_node:\n",
        "            path = []\n",
        "            while parents[n] != n:\n",
        "                path.append(n)\n",
        "                n = parents[n]\n",
        "            path.append(start_node)\n",
        "            path.reverse()\n",
        "            print('Path found: {}'.format(path))\n",
        "            return path\n",
        "        # remove n from the open_list, and add it to closed_list\n",
        "        # because all of his neighbors were inspected\n",
        "        open_set.remove(n)\n",
        "        closed_set.add(n)\n",
        "    print('Path does not exist!')\n",
        "    return None\n",
        "\n",
        "#define fuction to return neighbor and its distance\n",
        "#from the passed node\n",
        "\n",
        "def get_neighbors(v):\n",
        "    if v in Graph_nodes:\n",
        "        return Graph_nodes[v]\n",
        "    else:\n",
        "        return None\n",
        "def heuristic(n):\n",
        "    H_dist = {\n",
        "        'A': 11,\n",
        "        'B': 6,\n",
        "        'C': 5,\n",
        "        'D': 7,\n",
        "        'E': 3,\n",
        "        'F': 6,\n",
        "        'G': 5,\n",
        "        'H': 3,\n",
        "        'I': 1,\n",
        "        'J': 0\n",
        "    }\n",
        "    return H_dist[n]\n",
        "\n",
        "#Describe your graph here\n",
        "Graph_nodes = {\n",
        "    'A': [('B', 6), ('F', 3)],\n",
        "    'B': [('A', 6), ('C', 3), ('D', 2)],\n",
        "    'C': [('B', 3), ('D', 1), ('E', 5)],\n",
        "    'D': [('B', 2), ('C', 1), ('E', 8)],\n",
        "    'E': [('C', 5), ('D', 8), ('I', 5), ('J', 5)],\n",
        "    'F': [('A', 3), ('G', 1), ('H', 7)],\n",
        "    'G': [('F', 1), ('I', 3)],\n",
        "    'H': [('F', 7), ('I', 2)],\n",
        "    'I': [('E', 5), ('G', 3), ('H', 2), ('J', 3)],\n",
        "}\n",
        "\n",
        "aStar('A', 'G')\n"
      ],
      "metadata": {
        "colab": {
          "base_uri": "https://localhost:8080/"
        },
        "id": "kZnfWkfbAj6Y",
        "outputId": "f63540fc-684b-458d-db16-f78eb46c17e3"
      },
      "execution_count": 32,
      "outputs": [
        {
          "output_type": "stream",
          "name": "stdout",
          "text": [
            "Path found: ['A', 'F', 'G']\n"
          ]
        },
        {
          "output_type": "execute_result",
          "data": {
            "text/plain": [
              "['A', 'F', 'G']"
            ]
          },
          "metadata": {},
          "execution_count": 32
        }
      ]
    },
    {
      "cell_type": "markdown",
      "source": [
        "BINARY SEARCH"
      ],
      "metadata": {
        "id": "SbXoyWWoOH3A"
      }
    },
    {
      "cell_type": "code",
      "source": [
        "def binarySearch(array, x, low, high):\n",
        "\n",
        "    if high >= low:\n",
        "\n",
        "        mid = low + (high - low)//2\n",
        "\n",
        "        # If found at mid, then return it\n",
        "        if array[mid] == x:\n",
        "            return mid\n",
        "\n",
        "        # Search the left half\n",
        "        elif array[mid] > x:\n",
        "            return binarySearch(array, x, low, mid-1)\n",
        "\n",
        "        # Search the right half\n",
        "        else:\n",
        "            return binarySearch(array, x, mid + 1, high)\n",
        "\n",
        "    else:\n",
        "        return -1\n",
        "\n",
        "\n",
        "array = [3, 4, 5, 6, 7, 8, 9]\n",
        "x = 4\n",
        "\n",
        "result = binarySearch(array, x, 0, len(array)-1)\n",
        "\n",
        "if result != -1:\n",
        "    print(\"Element is present at index \" + str(result))\n",
        "else:\n",
        "    print(\"Not found\")"
      ],
      "metadata": {
        "id": "eZMXDYDDOFKk"
      },
      "execution_count": null,
      "outputs": []
    },
    {
      "cell_type": "markdown",
      "source": [
        "BFS"
      ],
      "metadata": {
        "id": "qrvtqUU6RsXM"
      }
    },
    {
      "cell_type": "code",
      "source": [
        "WHITE = 0\n",
        "GRAY = 1\n",
        "BLACK = 2\n",
        "\n",
        "class Graph:\n",
        "    \n",
        "    def __init__(self,M):\n",
        "        self.Mat = M\n",
        "        self.N = M.shape[0]\n",
        "        self.parent = [None for _ in range(self.N)]\n",
        "        self.color = [None for _ in range(self.N)]\n",
        "        \n",
        "        \n",
        "    def getParent(self,index):\n",
        "        return self.parent[index]\n",
        "        \n",
        "    def getColor(self,index):\n",
        "        return self.color[index]\n",
        "    \n",
        "    def setParent(self,index,P):\n",
        "        self.parent[index] = P\n",
        "        \n",
        "    def setColor(self,index,color):\n",
        "        self.color[index] = color\n",
        "        \n",
        "    def getAdj(self, index):\n",
        "        adj=[]\n",
        "        for i,v in enumerate(self.Mat[index,:]):\n",
        "            if v!=0:\n",
        "                adj.append(i)\n",
        "        return adj\n",
        "    \n",
        "    \n",
        "\n",
        "class BFS:\n",
        "    \n",
        "    def __init__(self,G,source):\n",
        "        \n",
        "        self.G = G\n",
        "        self.source = source\n",
        "        self.Q = []\n",
        "        self.result = []\n",
        "        \n",
        "    def traverse(self):\n",
        "    \n",
        "        for i in range(self.G.N):\n",
        "            self.G.setColor(i,WHITE)\n",
        "            self.G.setParent(i,None)\n",
        "            \n",
        "        self.G.setColor(self.source,GRAY)\n",
        "        self.Q.append(self.source)\n",
        "        while self.Q :\n",
        "            u = self.Q.pop(0)\n",
        "            for v in self.G.getAdj(u):\n",
        "                if self.G.getColor(v) == WHITE:\n",
        "                    self.G.setColor(v,GRAY)\n",
        "                    self.G.setParent(v,u)\n",
        "                    self.Q.append(v)\n",
        "            self.G.setColor(u,BLACK)\n",
        "            self.result.append(u)\n",
        "            \n",
        "    def printResult(self):\n",
        "        for u in self.result:\n",
        "            print(u,end=' ')\n",
        "        print('')\n",
        "            \n",
        "    def printLevel(self,curr,depth):\n",
        "        if curr == None:\n",
        "            return;\n",
        "        for i in range(1,depth):\n",
        "            print(\"│   \",end='')\n",
        "        if depth > 0:\n",
        "            print(\"|___\",end='')\n",
        "        print(curr);\n",
        "\n",
        "        for child in [i for i,x in enumerate(self.G.parent) if x== curr]:\n",
        "            self.printLevel(child, depth + 1);\n",
        "        \n",
        "             \n",
        "import numpy as np\n",
        "\n",
        "M = np.array([[1,0,1,0,0],\n",
        "              [1,0,0,1,1],\n",
        "              [0,0,0,1,1],\n",
        "              [1,0,1,0,1],\n",
        "              [0,1,1,1,0]])\n",
        "\n",
        "G = Graph(M)\n",
        "bfs = BFS(G,3)\n",
        "bfs.traverse()\n",
        "bfs.printResult()\n",
        "bfs.printLevel(2,0)"
      ],
      "metadata": {
        "colab": {
          "base_uri": "https://localhost:8080/"
        },
        "id": "nHN7t4-PQoNh",
        "outputId": "e9f538ae-4d34-4103-c5bd-86d1e7fea1cd"
      },
      "execution_count": 51,
      "outputs": [
        {
          "output_type": "stream",
          "name": "stdout",
          "text": [
            "3 0 2 4 1 \n",
            "2\n"
          ]
        }
      ]
    }
  ]
}